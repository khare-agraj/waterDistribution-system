{
 "cells": [
  {
   "cell_type": "code",
   "execution_count": 1,
   "metadata": {},
   "outputs": [
    {
     "name": "stderr",
     "output_type": "stream",
     "text": [
      "Duplicate key in file '/Users/shashank/.matplotlib/matplotlibrc', line 2 ('backend: TkAgg')\n"
     ]
    }
   ],
   "source": [
    "import networkx as nx\n",
    "import matplotlib.pyplot as plt"
   ]
  },
  {
   "cell_type": "code",
   "execution_count": 2,
   "metadata": {},
   "outputs": [],
   "source": [
    "#converts lists into tuples\n",
    "def convert(list):\n",
    "    return tuple(list)"
   ]
  },
  {
   "cell_type": "code",
   "execution_count": 3,
   "metadata": {},
   "outputs": [
    {
     "name": "stdout",
     "output_type": "stream",
     "text": [
      "{'id': 'A', 'level': 'HIGH', 'pi': '1000'}\n",
      "{'id': 'B', 'level': 'LOW', 'pi': '2'}\n",
      "{'id': 'C', 'level': 'MED', 'pi': '1000'}\n",
      "{'id': 'D', 'level': 'HIGH', 'pi': '1000'}\n",
      "{'id': 'E', 'level': 'HIGH', 'pi': '1000'}\n",
      "{'id': 'F', 'level': 'LOW', 'pi': '4'}\n",
      "{'id': 'G', 'level': 'LOW', 'pi': '3'}\n",
      "{'id': 'H', 'level': 'LOW', 'pi': '1'}\n",
      "{'id': 'I', 'level': 'MED', 'pi': '1000'}\n",
      "{'id': 'J', 'level': 'MED', 'pi': '1000'}\n",
      "{'id': 'K', 'level': 'HIGH', 'pi': '1000'}\n"
     ]
    }
   ],
   "source": [
    "#loads and stores data from json file\n",
    "import json\n",
    "f = open('/Users/shashank/Documents/Coursework/Spring_2021/Autonomous_Systems/data.json',)\n",
    "\n",
    "\n",
    "data = json.load(f)\n",
    "\n",
    "\n",
    "for i in data['nodes']:\n",
    "    print(i)\n",
    "  \n",
    "f.close()"
   ]
  },
  {
   "cell_type": "code",
   "execution_count": 4,
   "metadata": {},
   "outputs": [
    {
     "name": "stdout",
     "output_type": "stream",
     "text": [
      "[('A', 'B'), ('B', 'C'), ('C', 'D'), ('A', 'F'), ('F', 'G'), ('G', 'B'), ('B', 'I'), ('I', 'E'), ('C', 'H'), ('G', 'H'), ('H', 'J'), ('F', 'J'), ('H', 'E'), ('B', 'A'), ('C', 'B'), ('D', 'C'), ('F', 'A'), ('G', 'F'), ('B', 'G'), ('I', 'B'), ('E', 'I'), ('H', 'C'), ('H', 'G'), ('J', 'H'), ('J', 'F'), ('E', 'H'), ('D', 'K'), ('K', 'D'), ('J', 'K'), ('K', 'J')]\n"
     ]
    }
   ],
   "source": [
    "#converts lists of edges into tuples\n",
    "edgesss = []\n",
    "z = 0\n",
    "length = len(data['edgess'])\n",
    "for i in data['edgess']:\n",
    "    temp = convert(data['edgess'][z])\n",
    "    edgesss.append(temp)\n",
    "    z = z+1\n",
    "print(edgesss)"
   ]
  },
  {
   "cell_type": "code",
   "execution_count": 5,
   "metadata": {},
   "outputs": [],
   "source": [
    "#Creates a graphical representation of network of nodes\n",
    "G = nx.DiGraph()\n",
    "G.add_edges_from(edgesss)"
   ]
  },
  {
   "cell_type": "code",
   "execution_count": 6,
   "metadata": {},
   "outputs": [
    {
     "data": {
      "image/png": "[encoded data removed]",
      "text/plain": [
       "<Figure size 432x288 with 1 Axes>"
      ]
     },
     "metadata": {},
     "output_type": "display_data"
    }
   ],
   "source": [
    "pos = nx.spring_layout(G)\n",
    "nx.draw_networkx_nodes(G,pos,node_size=500)\n",
    "nx.draw_networkx_edges(G,pos,edgelist=G.edges(),edge_color='black')\n",
    "nx.draw_networkx_labels(G,pos)\n",
    "plt.show\n",
    "plt.savefig('/Users/shashank/Documents/Coursework/Spring_2021/Autonomous_Systems/graph.png')"
   ]
  },
  {
   "cell_type": "code",
   "execution_count": 7,
   "metadata": {},
   "outputs": [
    {
     "name": "stdout",
     "output_type": "stream",
     "text": [
      "{'node': ['A', 'B', 'C', 'D', 'E', 'F', 'G', 'H', 'I', 'J', 'K'], 'level': ['HIGH', 'LOW', 'MED', 'HIGH', 'HIGH', 'LOW', 'LOW', 'LOW', 'MED', 'MED', 'HIGH']}\n",
      "['A', 'D', 'E', 'K']\n",
      "['B', 'F', 'G', 'H']\n",
      "['2', '4', '3', '1']\n",
      "['C', 'I', 'J']\n"
     ]
    }
   ],
   "source": [
    "#Sorts nodes based on water level\n",
    "node_level = {\n",
    "    \"node\":[],\n",
    "    \"level\":[]\n",
    "}\n",
    "high = []\n",
    "low = []\n",
    "pihi = []\n",
    "pilo = []\n",
    "pimed = []\n",
    "med = []\n",
    "j = 0\n",
    "\n",
    "for i in data['nodes']:\n",
    "    node_level['node'].append(i['id'])\n",
    "    node_level['level'].append(i['level'])\n",
    "\n",
    "print(node_level)\n",
    "for i in data['nodes']:\n",
    "    if i['level'] == \"HIGH\":\n",
    "        high.append(i['id'])\n",
    "        pihi.append(i['pi'])\n",
    "        \n",
    "for i in data['nodes']:\n",
    "    if i['level'] == \"LOW\":\n",
    "        low.append(i['id'])\n",
    "        pilo.append(i['pi'])\n",
    "        \n",
    "        \n",
    "for i in data['nodes']:\n",
    "    if i['level'] == \"MED\":\n",
    "        med.append(i['id'])\n",
    "        pimed.append(i['pi'])\n",
    "\n",
    "print(high)\n",
    "print(low)\n",
    "print(pilo)\n",
    "print(med)"
   ]
  },
  {
   "cell_type": "code",
   "execution_count": 8,
   "metadata": {},
   "outputs": [
    {
     "name": "stdout",
     "output_type": "stream",
     "text": [
      "['H', 'B', 'G', 'F']\n"
     ]
    }
   ],
   "source": [
    "#sorts low nodes based on priority index\n",
    "length = len(low)\n",
    "l = 0\n",
    "LOW = ['A']  * length\n",
    "for k in pilo:\n",
    "    j = int(k)\n",
    "    LOW[j-1] = low[l]\n",
    "    l = l+1\n",
    "print(LOW)   "
   ]
  },
  {
   "cell_type": "code",
   "execution_count": 9,
   "metadata": {},
   "outputs": [],
   "source": [
    "#Performing the dijkstra algorithm to find the shortest path\n",
    "from dijkstra import Graph,DijkstraSPF"
   ]
  },
  {
   "cell_type": "code",
   "execution_count": 10,
   "metadata": {},
   "outputs": [],
   "source": [
    "graph = Graph()\n",
    "\n",
    "for i in data['edges']:\n",
    "    graph.add_edge(i[0],i[1],i[2])\n",
    "    \n",
    "highs = []\n",
    "nodes = A,B,C,D,E,F,G,H,I,J,K = list(\"ABCDEFGHIJK\")\n",
    "for i in high:\n",
    "    highs.append(i)"
   ]
  },
  {
   "cell_type": "code",
   "execution_count": 11,
   "metadata": {},
   "outputs": [
    {
     "name": "stdout",
     "output_type": "stream",
     "text": [
      "Node  Distance from H    \n",
      "A     34\n",
      "D     34\n",
      "E     15\n",
      "K     47\n",
      "E 15\n",
      "['H', 'E']\n",
      "H <- E\n",
      "Node  Distance from B    \n",
      "A     10\n",
      "D     20\n",
      "K     43\n",
      "A 10\n",
      "['B', 'A']\n",
      "B <- A\n",
      "Node  Distance from G    \n",
      "D     45\n",
      "K     57\n",
      "D 45\n",
      "['G', 'B', 'C', 'D']\n",
      "G <- B <- C <- D\n",
      "Node  Distance from F    \n",
      "K     52\n",
      "K 52\n",
      "['F', 'J', 'K']\n",
      "F <- J <- K\n"
     ]
    }
   ],
   "source": [
    "#Finding the nearest HIGH node to the LOW node\n",
    "flow = []\n",
    "for i in range(length):\n",
    "    dijkstra = DijkstraSPF(graph, LOW[i])\n",
    "    print(\"%-5s %-5s from %-5s\" % (\"Node\", \"Distance\", LOW[i]))\n",
    "    dict_n = {\n",
    "        \"Node\":[],\n",
    "        \"Distance\":[]\n",
    "    };\n",
    "    for u in highs:\n",
    "        dist = dijkstra.get_distance(u)\n",
    "        dict_n[\"Node\"].append(u)\n",
    "        dict_n[\"Distance\"].append(dist)\n",
    "        print(\"%-5s %d\" % (u, dist))\n",
    "    length1 = len(dict_n[\"Node\"])\n",
    "    a = dict_n[\"Distance\"][0]\n",
    "    b = dict_n[\"Node\"][0]\n",
    "    for i in range(length1):\n",
    "        if dict_n[\"Distance\"][i] < a :\n",
    "            a = dict_n[\"Distance\"][i]\n",
    "            b = dict_n[\"Node\"][i]\n",
    "\n",
    "    print(b,a)\n",
    "    c = dijkstra.get_path(b)\n",
    "    print(c)\n",
    "    flow.append(c)\n",
    "    print(\" <- \".join(dijkstra.get_path(b)))\n",
    "    highs.remove(b)\n",
    "    med.append(b)"
   ]
  },
  {
   "cell_type": "code",
   "execution_count": 12,
   "metadata": {},
   "outputs": [
    {
     "name": "stdout",
     "output_type": "stream",
     "text": [
      "H<-E\n",
      "B<-A\n",
      "G<-B<-C<-D\n",
      "F<-J<-K\n",
      "H<-E\n"
     ]
    }
   ],
   "source": [
    "for i in flow:\n",
    "    print(\"<-\".join(i))\n",
    "print(\"<-\".join(flow[0]))"
   ]
  },
  {
   "cell_type": "code",
   "execution_count": 13,
   "metadata": {},
   "outputs": [],
   "source": [
    "import tkinter as tk\n",
    "from tkinter import *\n",
    "from matplotlib.figure import Figure\n",
    "from matplotlib.backends.backend_tkagg import (FigureCanvasTkAgg, \n",
    "NavigationToolbar2Tk)"
   ]
  },
  {
   "cell_type": "code",
   "execution_count": null,
   "metadata": {},
   "outputs": [],
   "source": [
    "root = tk.Tk()\n",
    "root.title('Smart Water Distribution Network')\n",
    "root.geometry(\"500x450\")\n",
    "canvas = Canvas(width = 450,height = 300 , bg = 'white')\n",
    "canvas.pack()\n",
    "photo = PhotoImage(file = '/Users/shashank/Documents/Coursework/Spring_2021/Autonomous_Systems/graph.png')\n",
    "canvas.create_image(0,0,image = photo , anchor = NW)\n",
    "text_1 = Text(root,height = 20,width = 50)\n",
    "text_1.config(state = \"normal\")\n",
    "text_1.insert(tk.INSERT,\"WATER FLOWS IN THE FOLLOWING PATHS\\n\\n\")\n",
    "for i in flow:\n",
    "    t = \"<-\".join(i) + \"\\n\"\n",
    "    text_1.insert(tk.INSERT,t)\n",
    "\n",
    "text_1.config(state=\"disabled\")\n",
    "text_1.pack()\n",
    "\n",
    "root.mainloop()"
   ]
  },
  {
   "cell_type": "code",
   "execution_count": null,
   "metadata": {},
   "outputs": [],
   "source": []
  }
 ],
 "metadata": {
  "kernelspec": {
   "display_name": "Python 3",
   "language": "python",
   "name": "python3"
  },
  "language_info": {
   "codemirror_mode": {
    "name": "ipython",
    "version": 3
   },
   "file_extension": ".py",
   "mimetype": "text/x-python",
   "name": "python",
   "nbconvert_exporter": "python",
   "pygments_lexer": "ipython3",
   "version": "3.8.3"
  }
 },
 "nbformat": 4,
 "nbformat_minor": 4
}
